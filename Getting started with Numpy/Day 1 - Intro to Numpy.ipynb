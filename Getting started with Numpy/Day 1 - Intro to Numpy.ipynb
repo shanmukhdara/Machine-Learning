{
 "cells": [
  {
   "cell_type": "markdown",
   "id": "ebb6f982",
   "metadata": {},
   "source": [
    "# Introduction to Numpy\n",
    "\n",
    "Numpy is used to work with massive multi-dimensional arrays and high level mathematical functions (linear algebra, fourier transforms...)\n",
    "\n",
    "We already have lists in python, **why do we need numpy arrays at all**? <br> \n",
    "Because lists are slow in process, numpy provides an array object that is 50x faster than python lists <br>\n",
    "One more advantage of using Numpy is Broadcasting - this will be discussed in detail at the end of this tutotrial\n",
    "\n",
    "**So how are numpy arrays faster?** <br>\n",
    "Numpy arrays are stored at one contiguous place in memory unlike lists (physical memory storage, so its easy to perform operations on it\n",
    "\n",
    "Just a reminder - indexing in python starts from 0\n",
    "**Key points to note:** \n",
    "1. Array size cannot be changed after creation, overwrite or delete\n",
    "2. All elements in the array must be of the same data type",
    
",
    "\n",
    "### Prerequisite - \n",
    "* **Python** -\n",
    "If you don't already have Python, I strongly advise you to install the Anaconda Distribution (includes Python, NumPy, and many other commonly used packages)\n",
    "\n",
    "* **Numpy** -\n",
    "NumPy may be installed with conda or pip. I recommend pip because it is simple and straightforward.\n",
    "                         \"pip install numpy\"\n",
    "                         \n",
    "\n"
   ]
  },
  {
   "cell_type": "markdown",
   "id": "8d97149d",
   "metadata": {},
   "source": [
    "### Import"
   ]
  },
  {
   "cell_type": "markdown",
   "id": "20d39f5f",
   "metadata": {},
   "source": [
    "Lets import numpy"
   ]
  },
  {
   "cell_type": "code",
   "execution_count": 1,
   "id": "7209742d",
   "metadata": {},
   "outputs": [],
   "source": [
    "import numpy as np"
   ]
  },
  {
   "cell_type": "markdown",
   "id": "a839f53b",
   "metadata": {},
   "source": [
    "To see if its imported successfully"
   ]
  },
  {
   "cell_type": "code",
   "execution_count": 3,
   "id": "3e7f9f71",
   "metadata": {},
   "outputs": [
    {
     "data": {
      "text/plain": [
       "<module 'numpy' from '/Users/sindhuja.kolluru/opt/anaconda3/lib/python3.8/site-packages/numpy/__init__.py'>"
      ]
     },
     "execution_count": 3,
     "metadata": {},
     "output_type": "execute_result"
    }
   ],
   "source": [
    "np"
   ]
  },
  {
   "cell_type": "markdown",
   "id": "4959e573",
   "metadata": {},
   "source": [
    "Lets start with basics, to find out all the functions in numpy use <br>\n",
    "                              np.+'TAB'\n",
    "\n",
    "to see np documentation"
   ]
  },
  {
   "cell_type": "code",
   "execution_count": 7,
   "id": "40f5eda7",
   "metadata": {},
   "outputs": [],
   "source": [
    "np?"
   ]
  },
  {
   "cell_type": "markdown",
   "id": "35ac9969",
   "metadata": {},
   "source": [
    "version_check"
   ]
  },
  {
   "cell_type": "code",
   "execution_count": 59,
   "id": "af7c1df7",
   "metadata": {},
   "outputs": [
    {
     "name": "stdout",
     "output_type": "stream",
     "text": [
      "1.20.1\n"
     ]
    }
   ],
   "source": [
    "print(np.__version__)"
   ]
  },
  {
   "cell_type": "markdown",
   "id": "2afc9783",
   "metadata": {},
   "source": [
    "### Creating arrays"
   ]
  },
  {
   "cell_type": "code",
   "execution_count": 12,
   "id": "22f0a5e5",
   "metadata": {},
   "outputs": [
    {
     "data": {
      "text/plain": [
       "array([0., 0., 0., 0., 0., 0., 0., 0., 0., 0.])"
      ]
     },
     "execution_count": 12,
     "metadata": {},
     "output_type": "execute_result"
    }
   ],
   "source": [
    "np.zeros(10)"
   ]
  },
  {
   "cell_type": "code",
   "execution_count": 13,
   "id": "65b94545",
   "metadata": {},
   "outputs": [
    {
     "data": {
      "text/plain": [
       "array([0, 0, 0, 0, 0, 0, 0, 0, 0, 0])"
      ]
     },
     "execution_count": 13,
     "metadata": {},
     "output_type": "execute_result"
    }
   ],
   "source": [
    "np.zeros(10,dtype = int)"
   ]
  },
  {
   "cell_type": "code",
   "execution_count": 14,
   "id": "c9a8b93a",
   "metadata": {},
   "outputs": [
    {
     "data": {
      "text/plain": [
       "array([1., 1., 1., 1., 1., 1., 1., 1., 1., 1.])"
      ]
     },
     "execution_count": 14,
     "metadata": {},
     "output_type": "execute_result"
    }
   ],
   "source": [
    "np.ones(10)"
   ]
  },
  {
   "cell_type": "code",
   "execution_count": 31,
   "id": "9a565f7d",
   "metadata": {},
   "outputs": [
    {
     "data": {
      "text/plain": [
       "array([2.5, 2.5, 2.5, 2.5, 2.5, 2.5, 2.5, 2.5, 2.5, 2.5])"
      ]
     },
     "execution_count": 31,
     "metadata": {},
     "output_type": "execute_result"
    }
   ],
   "source": [
    "np.full(10, 2.5)"
   ]
  },
  {
   "cell_type": "code",
   "execution_count": 74,
   "id": "745c8ca0",
   "metadata": {},
   "outputs": [
    {
     "data": {
      "text/plain": [
       "array([ 1,  2,  3,  5,  7, 12, 13, 14, 15, 16, 17])"
      ]
     },
     "execution_count": 74,
     "metadata": {},
     "output_type": "execute_result"
    }
   ],
   "source": [
    "numpy_array = np.array([1, 2, 3, 5, 7, 12,13,14,15,16,17])\n",
    "numpy_array"
   ]
  },
  {
   "cell_type": "markdown",
   "id": "22fc225b",
   "metadata": {},
   "source": [
    "np.array() takes any array like object, a list or a tuple"
   ]
  },
  {
   "cell_type": "markdown",
   "id": "47ac532f",
   "metadata": {},
   "source": [
    "m:n - n always excluded"
   ]
  },
  {
   "cell_type": "code",
   "execution_count": 75,
   "id": "ce470933",
   "metadata": {},
   "outputs": [
    {
     "data": {
      "text/plain": [
       "array([3, 5, 7])"
      ]
     },
     "execution_count": 75,
     "metadata": {},
     "output_type": "execute_result"
    }
   ],
   "source": [
    "numpy_array[2:5]"
   ]
  },
  {
   "cell_type": "markdown",
   "id": "75eeb43f",
   "metadata": {},
   "source": [
    "Step wise slicing"
   ]
  },
  {
   "cell_type": "code",
   "execution_count": 76,
   "id": "4d66133c",
   "metadata": {},
   "outputs": [
    {
     "data": {
      "text/plain": [
       "array([ 3,  7, 13, 15])"
      ]
     },
     "execution_count": 76,
     "metadata": {},
     "output_type": "execute_result"
    }
   ],
   "source": [
    "numpy_array[2:10:2]"
   ]
  },
  {
   "cell_type": "markdown",
   "id": "9d880937",
   "metadata": {},
   "source": [
    "### Array Manipulations"
   ]
  },
  {
   "cell_type": "code",
   "execution_count": 17,
   "id": "54cbc952",
   "metadata": {},
   "outputs": [
    {
     "data": {
      "text/plain": [
       "array([ 1,  2, 10,  5,  7, 12])"
      ]
     },
     "execution_count": 17,
     "metadata": {},
     "output_type": "execute_result"
    }
   ],
   "source": [
    "numpy_array[2] = 10\n",
    "numpy_array"
   ]
  },
  {
   "cell_type": "markdown",
   "id": "58e639d8",
   "metadata": {},
   "source": [
    "when (m,n) - n is excluded"
   ]
  },
  {
   "cell_type": "code",
   "execution_count": 33,
   "id": "146ef026",
   "metadata": {},
   "outputs": [
    {
     "data": {
      "text/plain": [
       "array([3, 4, 5, 6, 7, 8, 9])"
      ]
     },
     "execution_count": 33,
     "metadata": {},
     "output_type": "execute_result"
    }
   ],
   "source": [
    "np.arange(3, 10)"
   ]
  },
  {
   "cell_type": "code",
   "execution_count": 34,
   "id": "0d5e068b",
   "metadata": {},
   "outputs": [
    {
     "data": {
      "text/plain": [
       "array([  0.,  10.,  20.,  30.,  40.,  50.,  60.,  70.,  80.,  90., 100.])"
      ]
     },
     "execution_count": 34,
     "metadata": {},
     "output_type": "execute_result"
    }
   ],
   "source": [
    "np.linspace(0, 100, 11)"
   ]
  },
  {
   "cell_type": "markdown",
   "id": "383213d7",
   "metadata": {},
   "source": [
    "### Multi-dimentional arrays"
   ]
  },
  {
   "cell_type": "code",
   "execution_count": 21,
   "id": "2b36d826",
   "metadata": {},
   "outputs": [
    {
     "data": {
      "text/plain": [
       "array([[0., 0.],\n",
       "       [0., 0.],\n",
       "       [0., 0.],\n",
       "       [0., 0.],\n",
       "       [0., 0.]])"
      ]
     },
     "execution_count": 21,
     "metadata": {},
     "output_type": "execute_result"
    }
   ],
   "source": [
    "np.zeros((5, 2))"
   ]
  },
  {
   "cell_type": "code",
   "execution_count": 22,
   "id": "ae8f19aa",
   "metadata": {},
   "outputs": [
    {
     "data": {
      "text/plain": [
       "array([[0, 0],\n",
       "       [0, 0],\n",
       "       [0, 0],\n",
       "       [0, 0],\n",
       "       [0, 0]])"
      ]
     },
     "execution_count": 22,
     "metadata": {},
     "output_type": "execute_result"
    }
   ],
   "source": [
    "np.zeros((5, 2), dtype = int)"
   ]
  },
  {
   "cell_type": "code",
   "execution_count": 27,
   "id": "50f2989b",
   "metadata": {},
   "outputs": [
    {
     "data": {
      "text/plain": [
       "array([[1, 2, 3],\n",
       "       [4, 5, 6],\n",
       "       [7, 8, 9]])"
      ]
     },
     "execution_count": 27,
     "metadata": {},
     "output_type": "execute_result"
    }
   ],
   "source": [
    "n = np.array([\n",
    "    [1, 2, 3],\n",
    "    [4, 5, 6],\n",
    "    [7, 8, 9]\n",
    "])\n",
    "n"
   ]
  },
  {
   "cell_type": "code",
   "execution_count": 26,
   "id": "893d8433",
   "metadata": {},
   "outputs": [
    {
     "data": {
      "text/plain": [
       "array([[ 1, 20,  3],\n",
       "       [ 4,  5,  6],\n",
       "       [ 7,  8,  9]])"
      ]
     },
     "execution_count": 26,
     "metadata": {},
     "output_type": "execute_result"
    }
   ],
   "source": [
    "n[0, 1] = 20\n",
    "n"
   ]
  },
  {
   "cell_type": "markdown",
   "id": "6a3d1640",
   "metadata": {},
   "source": [
    "m:n - n always excluded"
   ]
  },
  {
   "cell_type": "code",
   "execution_count": 71,
   "id": "5daf7509",
   "metadata": {},
   "outputs": [
    {
     "data": {
      "text/plain": [
       "array([[4, 5, 1]])"
      ]
     },
     "execution_count": 71,
     "metadata": {},
     "output_type": "execute_result"
    }
   ],
   "source": [
    "n[1:2]"
   ]
  },
  {
   "cell_type": "code",
   "execution_count": 73,
   "id": "cb97eefc",
   "metadata": {},
   "outputs": [],
   "source": [
    "n[:, 2] = [0, 1, 2]"
   ]
  },
  {
   "cell_type": "markdown",
   "id": "f80d99c2",
   "metadata": {},
   "source": [
    "### Randomly generated arrays"
   ]
  },
  {
   "cell_type": "code",
   "execution_count": 57,
   "id": "54995153",
   "metadata": {},
   "outputs": [
    {
     "data": {
      "text/plain": [
       "array([[0.4359949 , 0.02592623],\n",
       "       [0.54966248, 0.43532239],\n",
       "       [0.4203678 , 0.33033482],\n",
       "       [0.20464863, 0.61927097],\n",
       "       [0.29965467, 0.26682728]])"
      ]
     },
     "execution_count": 57,
     "metadata": {},
     "output_type": "execute_result"
    }
   ],
   "source": [
    "np.random.seed(2)\n",
    "np.random.rand(5, 2)"
   ]
  },
  {
   "cell_type": "code",
   "execution_count": 103,
   "id": "46949f73",
   "metadata": {},
   "outputs": [
    {
     "data": {
      "text/plain": [
       "array([[-0.41675785, -0.05626683],\n",
       "       [-2.1361961 ,  1.64027081],\n",
       "       [-1.79343559, -0.84174737],\n",
       "       [ 0.50288142, -1.24528809],\n",
       "       [-1.05795222, -0.90900761]])"
      ]
     },
     "execution_count": 103,
     "metadata": {},
     "output_type": "execute_result"
    }
   ],
   "source": [
    "np.random.seed(2)\n",
    "np.random.randn(5, 2)"
   ]
  },
  {
   "cell_type": "markdown",
   "id": "241ef150",
   "metadata": {},
   "source": [
    "What's the **diff b/w rand and randn** ? <br>\n",
    "as the name suggests randn - gives out a normal distribution of numbers <br>\n",
    "whereas rand gives out a uniform distribution unif(0,1)"
   ]
  },
  {
   "cell_type": "code",
   "execution_count": 104,
   "id": "98f73288",
   "metadata": {},
   "outputs": [
    {
     "data": {
      "text/plain": [
       "array([[40, 15],\n",
       "       [72, 22],\n",
       "       [43, 82],\n",
       "       [75,  7],\n",
       "       [34, 49]])"
      ]
     },
     "execution_count": 104,
     "metadata": {},
     "output_type": "execute_result"
    }
   ],
   "source": [
    "np.random.seed(2)\n",
    "np.random.randint(low=0, high=100, size=(5, 2))"
   ]
  },
  {
   "cell_type": "markdown",
   "id": "8c93954f",
   "metadata": {},
   "source": [
    "### Element-wise operations"
   ]
  },
  {
   "cell_type": "code",
   "execution_count": 105,
   "id": "fe22cdee",
   "metadata": {},
   "outputs": [
    {
     "name": "stdout",
     "output_type": "stream",
     "text": [
      "[[40 15 72 22 43]]\n",
      "[[ 90  40 154  54  96]]\n"
     ]
    }
   ],
   "source": [
    "np.random.seed(2)\n",
    "a = np.random.randint(0,100,size=(1,5))\n",
    "print(a)\n",
    "b = (10 + (a * 2)) \n",
    "print(b)"
   ]
  },
  {
   "cell_type": "markdown",
   "id": "cbd0f3a3",
   "metadata": {},
   "source": [
    "### Comparison operations"
   ]
  },
  {
   "cell_type": "code",
   "execution_count": 49,
   "id": "172a5188",
   "metadata": {},
   "outputs": [
    {
     "data": {
      "text/plain": [
       "array([[ True,  True,  True,  True,  True]])"
      ]
     },
     "execution_count": 49,
     "metadata": {},
     "output_type": "execute_result"
    }
   ],
   "source": [
    "a >= 2"
   ]
  },
  {
   "cell_type": "code",
   "execution_count": 50,
   "id": "881adda9",
   "metadata": {},
   "outputs": [
    {
     "data": {
      "text/plain": [
       "array([[False, False, False, False, False]])"
      ]
     },
     "execution_count": 50,
     "metadata": {},
     "output_type": "execute_result"
    }
   ],
   "source": [
    "a > b"
   ]
  },
  {
   "cell_type": "markdown",
   "id": "c5ce7a38",
   "metadata": {},
   "source": [
    "### Summarizing operations"
   ]
  },
  {
   "cell_type": "code",
   "execution_count": 51,
   "id": "92295ced",
   "metadata": {},
   "outputs": [
    {
     "data": {
      "text/plain": [
       "24.883729623993265"
      ]
     },
     "execution_count": 51,
     "metadata": {},
     "output_type": "execute_result"
    }
   ],
   "source": [
    "a.std()"
   ]
  },
  {
   "cell_type": "code",
   "execution_count": 52,
   "id": "2a563a24",
   "metadata": {},
   "outputs": [
    {
     "data": {
      "text/plain": [
       "0"
      ]
     },
     "execution_count": 52,
     "metadata": {},
     "output_type": "execute_result"
    }
   ],
   "source": [
    "n.min()"
   ]
  },
  {
   "cell_type": "markdown",
   "id": "b25d3944",
   "metadata": {},
   "source": [
    "### No of dimensions"
   ]
  },
  {
   "cell_type": "code",
   "execution_count": 106,
   "id": "70d593c1",
   "metadata": {},
   "outputs": [
    {
     "name": "stdout",
     "output_type": "stream",
     "text": [
      "[40]\n"
     ]
    },
    {
     "data": {
      "text/plain": [
       "1"
      ]
     },
     "execution_count": 106,
     "metadata": {},
     "output_type": "execute_result"
    }
   ],
   "source": [
    "np.random.seed(2)\n",
    "a = np.random.randint(0,100,size=(1))\n",
    "print(a)\n",
    "a.ndim"
   ]
  },
  {
   "cell_type": "code",
   "execution_count": 107,
   "id": "65b0345b",
   "metadata": {},
   "outputs": [
    {
     "name": "stdout",
     "output_type": "stream",
     "text": [
      "[[40 15 72 22 43]]\n"
     ]
    },
    {
     "data": {
      "text/plain": [
       "2"
      ]
     },
     "execution_count": 107,
     "metadata": {},
     "output_type": "execute_result"
    }
   ],
   "source": [
    "np.random.seed(2)\n",
    "a = np.random.randint(0,100,size=(1,5))\n",
    "print(a)\n",
    "a.ndim"
   ]
  },
  {
   "cell_type": "markdown",
   "id": "cb8500d8",
   "metadata": {},
   "source": [
    "To use this ndimension while creating an array <br>\n",
    "below creates a 3D array with [1,2,3,4] situated at (1,1)"
   ]
  },
  {
   "cell_type": "code",
   "execution_count": 70,
   "id": "94725d46",
   "metadata": {},
   "outputs": [
    {
     "data": {
      "text/plain": [
       "array([[[1, 2, 3, 4]]])"
      ]
     },
     "execution_count": 70,
     "metadata": {},
     "output_type": "execute_result"
    }
   ],
   "source": [
    "arr= np.array([1,2,3,4], ndmin = 3)\n",
    "arr"
   ]
  },
  {
   "cell_type": "markdown",
   "id": "4bbb6777",
   "metadata": {},
   "source": [
    "### Data types "
   ]
  },
  {
   "cell_type": "markdown",
   "id": "52244aba",
   "metadata": {},
   "source": [
    "Numpy has some extra data types which are referes with one character\n",
    "* i - integer\n",
    "* u - unsigned int\n",
    "* c - complex float\n",
    "* b - boolean\n",
    "* f - float\n",
    "* m - time date\n",
    "* M - Date time\n",
    "* S - string\n",
    "* O - object ..."
   ]
  },
  {
   "cell_type": "code",
   "execution_count": 108,
   "id": "daec4c22",
   "metadata": {},
   "outputs": [
    {
     "name": "stdout",
     "output_type": "stream",
     "text": [
      "[[8 8 6 2 8]]\n"
     ]
    },
    {
     "data": {
      "text/plain": [
       "dtype('int64')"
      ]
     },
     "execution_count": 108,
     "metadata": {},
     "output_type": "execute_result"
    }
   ],
   "source": [
    "np.random.seed(2)\n",
    "arr = np.random.randint(0,10,size=(1,5))\n",
    "print(arr)\n",
    "arr.dtype"
   ]
  },
  {
   "cell_type": "code",
   "execution_count": 83,
   "id": "1498405f",
   "metadata": {},
   "outputs": [
    {
     "name": "stdout",
     "output_type": "stream",
     "text": [
      "[b'1' b'2' b'3' b'4']\n"
     ]
    },
    {
     "data": {
      "text/plain": [
       "dtype('S1')"
      ]
     },
     "execution_count": 83,
     "metadata": {},
     "output_type": "execute_result"
    }
   ],
   "source": [
    "arr = np.array([1,2,3,4], dtype = 'S')\n",
    "print(arr)\n",
    "arr.dtype"
   ]
  },
  {
   "cell_type": "markdown",
   "id": "932c1863",
   "metadata": {},
   "source": [
    "converting data type"
   ]
  },
  {
   "cell_type": "code",
   "execution_count": 109,
   "id": "c1283115",
   "metadata": {},
   "outputs": [
    {
     "data": {
      "text/plain": [
       "array([[b'8', b'8', b'6', b'2', b'8', b'7']], dtype='|S21')"
      ]
     },
     "execution_count": 109,
     "metadata": {},
     "output_type": "execute_result"
    }
   ],
   "source": [
    "np.random.seed(2)\n",
    "arr = np.random.randint(0,10,size=(1,6))\n",
    "newarr = arr.astype(\"S\")\n",
    "newarr"
   ]
  },
  {
   "cell_type": "markdown",
   "id": "5547fe6f",
   "metadata": {},
   "source": [
    "### Copy and View"
   ]
  },
  {
   "cell_type": "markdown",
   "id": "536d8f24",
   "metadata": {},
   "source": [
    "Copy owns the data in it, whereas view doesnt <br>\n",
    "i.e. id data in arr is modified that will reflect in Y but not X"
   ]
  },
  {
   "cell_type": "code",
   "execution_count": 114,
   "id": "1ca4206c",
   "metadata": {},
   "outputs": [
    {
     "name": "stdout",
     "output_type": "stream",
     "text": [
      "[[8 8 6 2 8 7]]\n",
      "[[  8   8 222   2   8   7]]\n",
      "[[8 8 6 2 8 7]]\n",
      "[[  8   8 222   2   8   7]]\n"
     ]
    }
   ],
   "source": [
    "X = arr.copy()\n",
    "Y = arr.view()\n",
    "print(arr)\n",
    "arr[0,2] = 222\n",
    "print(arr)\n",
    "print(X)\n",
    "print(Y)"
   ]
  },
  {
   "cell_type": "markdown",
   "id": "7b5185b9",
   "metadata": {},
   "source": [
    "Does an array own the data ?"
   ]
  },
  {
   "cell_type": "code",
   "execution_count": 97,
   "id": "fb52b467",
   "metadata": {},
   "outputs": [
    {
     "name": "stdout",
     "output_type": "stream",
     "text": [
      "None\n",
      "[[  6   8 222   9   9   9]]\n"
     ]
    }
   ],
   "source": [
    "print(X.base)\n",
    "print(Y.base)"
   ]
  },
  {
   "cell_type": "markdown",
   "id": "b02d73d2",
   "metadata": {},
   "source": [
    "### Shape and Reshape"
   ]
  },
  {
   "cell_type": "code",
   "execution_count": 98,
   "id": "6a75cd05",
   "metadata": {},
   "outputs": [
    {
     "data": {
      "text/plain": [
       "(1, 6)"
      ]
     },
     "execution_count": 98,
     "metadata": {},
     "output_type": "execute_result"
    }
   ],
   "source": [
    "arr.shape"
   ]
  },
  {
   "cell_type": "code",
   "execution_count": 118,
   "id": "7dcd6650",
   "metadata": {},
   "outputs": [
    {
     "data": {
      "text/plain": [
       "array([[  8,   8, 222],\n",
       "       [  2,   8,   7]])"
      ]
     },
     "execution_count": 118,
     "metadata": {},
     "output_type": "execute_result"
    }
   ],
   "source": [
    "new_arr = arr.reshape(2,3)\n",
    "new_arr"
   ]
  },
  {
   "cell_type": "code",
   "execution_count": 119,
   "id": "6eabda88",
   "metadata": {},
   "outputs": [
    {
     "data": {
      "text/plain": [
       "array([[  8,   8, 222,   2,   8,   7]])"
      ]
     },
     "execution_count": 119,
     "metadata": {},
     "output_type": "execute_result"
    }
   ],
   "source": [
    "arr.reshape(2,3).base"
   ]
  },
  {
   "cell_type": "markdown",
   "id": "5c729bbe",
   "metadata": {},
   "source": [
    "Now lets Flatten that array, -1 here is \"unknown\", i.e. we are not passign that as an argument, python will automatically find out its value"
   ]
  },
  {
   "cell_type": "code",
   "execution_count": 121,
   "id": "d2f5520a",
   "metadata": {},
   "outputs": [
    {
     "name": "stdout",
     "output_type": "stream",
     "text": [
      "[[  8   8 222]\n",
      " [  2   8   7]]\n"
     ]
    },
    {
     "data": {
      "text/plain": [
       "array([[  8,   8, 222,   2,   8,   7]])"
      ]
     },
     "execution_count": 121,
     "metadata": {},
     "output_type": "execute_result"
    }
   ],
   "source": [
    "print(new_arr)\n",
    "new_arr.reshape(1,-1)"
   ]
  },
  {
   "cell_type": "markdown",
   "id": "26c6a472",
   "metadata": {},
   "source": [
    "### Iteration\n",
    "\"for x in arr :\"\n",
    "If thats 1D it will iterate on all the members\n",
    "if its 2D it will iterate on all the rows\n",
    "nD - it will iterate on n-1th dimension \n",
    "\n",
    "to iterate on all the members on nD, use np.nditer()\n",
    "\n",
    "Use np.ndenumerator for enumerated iteration"
   ]
  },
  {
   "cell_type": "code",
   "execution_count": 125,
   "id": "2a925ddb",
   "metadata": {},
   "outputs": [
    {
     "name": "stdout",
     "output_type": "stream",
     "text": [
      "[8 8 6 2 8 7]\n",
      "[2 1 5 4 4 5]\n"
     ]
    }
   ],
   "source": [
    "np.random.seed(2)\n",
    "arr = np.random.randint(0,10,size=(2,6))\n",
    "for x in (arr):\n",
    "    print(x)"
   ]
  },
  {
   "cell_type": "code",
   "execution_count": 127,
   "id": "fb1d3e69",
   "metadata": {},
   "outputs": [
    {
     "name": "stdout",
     "output_type": "stream",
     "text": [
      "8\n",
      "8\n",
      "6\n",
      "2\n",
      "8\n",
      "7\n",
      "2\n",
      "1\n",
      "5\n",
      "4\n",
      "4\n",
      "5\n"
     ]
    }
   ],
   "source": [
    "np.random.seed(2)\n",
    "arr = np.random.randint(0,10,size=(2,6))\n",
    "for x in np.nditer(arr):\n",
    "    print(x)"
   ]
  },
  {
   "cell_type": "markdown",
   "id": "7b346d4a",
   "metadata": {},
   "source": [
    "### Joins\n",
    "Join array by axes\n",
    "If axes not specifies by default thats zero, ad zero \n",
    "\n",
    "[[1,2],[3,4]]   and   [[5,6],[7,8]] <br>\n",
    "on axis 0               $\\;\\;\\;\\;\\;\\;\\;\\;\\;\\;\\;\\;\\;\\;\\;\\;\\;\\;\\;\\;\\;\\;\\;\\;\\;\\;\\;\\;$                        on axis 1 <br>\n",
    "[[1,2],[3,4],[5,6],[7,8]]   $\\;\\;\\;\\;\\;\\;\\;\\;\\;\\;\\;\\;$                    [1,2,5,6],[3,4,7,8]]"
   ]
  },
  {
   "cell_type": "code",
   "execution_count": 128,
   "id": "02fd7a19",
   "metadata": {},
   "outputs": [
    {
     "name": "stdout",
     "output_type": "stream",
     "text": [
      "[[8 8 6 2 8 7]\n",
      " [2 1 5 4 4 5]]\n"
     ]
    },
    {
     "data": {
      "text/plain": [
       "array([[8, 8, 6, 2, 8, 7],\n",
       "       [2, 1, 5, 4, 4, 5],\n",
       "       [8, 8, 6, 2, 8, 7],\n",
       "       [2, 1, 5, 4, 4, 5]])"
      ]
     },
     "execution_count": 128,
     "metadata": {},
     "output_type": "execute_result"
    }
   ],
   "source": [
    "print(arr)\n",
    "join_arr = np.concatenate((arr, arr))\n",
    "join_arr"
   ]
  },
  {
   "cell_type": "code",
   "execution_count": 129,
   "id": "1a848538",
   "metadata": {},
   "outputs": [
    {
     "name": "stdout",
     "output_type": "stream",
     "text": [
      "[[8 8 6 2 8 7]\n",
      " [2 1 5 4 4 5]]\n"
     ]
    },
    {
     "data": {
      "text/plain": [
       "array([[8, 8, 6, 2, 8, 7, 8, 8, 6, 2, 8, 7],\n",
       "       [2, 1, 5, 4, 4, 5, 2, 1, 5, 4, 4, 5]])"
      ]
     },
     "execution_count": 129,
     "metadata": {},
     "output_type": "execute_result"
    }
   ],
   "source": [
    "print(arr)\n",
    "join_arr = np.concatenate((arr, arr), axis =1)\n",
    "join_arr"
   ]
  },
  {
   "cell_type": "markdown",
   "id": "56a89560",
   "metadata": {},
   "source": [
    "### Split"
   ]
  },
  {
   "cell_type": "code",
   "execution_count": 132,
   "id": "c9894837",
   "metadata": {},
   "outputs": [
    {
     "name": "stdout",
     "output_type": "stream",
     "text": [
      "[[8 8 6 2 8 7]\n",
      " [2 1 5 4 4 5]]\n"
     ]
    },
    {
     "data": {
      "text/plain": [
       "[array([[8, 8, 6, 2, 8, 7]]), array([[2, 1, 5, 4, 4, 5]])]"
      ]
     },
     "execution_count": 132,
     "metadata": {},
     "output_type": "execute_result"
    }
   ],
   "source": [
    "print(arr)\n",
    "np.array_split(arr,2)"
   ]
  },
  {
   "cell_type": "markdown",
   "id": "ddbcc540",
   "metadata": {},
   "source": [
    "array_split() - If it has less elements it will adjust form end\n",
    "split() - doesnt adjust it throws out an error as shown below "
   ]
  },
  {
   "cell_type": "code",
   "execution_count": 137,
   "id": "d56e35a7",
   "metadata": {},
   "outputs": [
    {
     "name": "stdout",
     "output_type": "stream",
     "text": [
      "[8 8 6 2 8]\n"
     ]
    },
    {
     "data": {
      "text/plain": [
       "[array([8, 8, 6]), array([2, 8])]"
      ]
     },
     "execution_count": 137,
     "metadata": {},
     "output_type": "execute_result"
    }
   ],
   "source": [
    "np.random.seed(2)\n",
    "arr = np.random.randint(0,10,size=(5))\n",
    "print(arr)\n",
    "np.array_split(arr,2)"
   ]
  },
  {
   "cell_type": "code",
   "execution_count": 138,
   "id": "c4857289",
   "metadata": {},
   "outputs": [
    {
     "name": "stdout",
     "output_type": "stream",
     "text": [
      "[8 8 6 2 8]\n"
     ]
    },
    {
     "ename": "ValueError",
     "evalue": "array split does not result in an equal division",
     "output_type": "error",
     "traceback": [
      "\u001b[0;31m---------------------------------------------------------------------------\u001b[0m",
      "\u001b[0;31mValueError\u001b[0m                                Traceback (most recent call last)",
      "\u001b[0;32m<ipython-input-138-cabf2cc8d537>\u001b[0m in \u001b[0;36m<module>\u001b[0;34m\u001b[0m\n\u001b[1;32m      2\u001b[0m \u001b[0marr\u001b[0m \u001b[0;34m=\u001b[0m \u001b[0mnp\u001b[0m\u001b[0;34m.\u001b[0m\u001b[0mrandom\u001b[0m\u001b[0;34m.\u001b[0m\u001b[0mrandint\u001b[0m\u001b[0;34m(\u001b[0m\u001b[0;36m0\u001b[0m\u001b[0;34m,\u001b[0m\u001b[0;36m10\u001b[0m\u001b[0;34m,\u001b[0m\u001b[0msize\u001b[0m\u001b[0;34m=\u001b[0m\u001b[0;34m(\u001b[0m\u001b[0;36m5\u001b[0m\u001b[0;34m)\u001b[0m\u001b[0;34m)\u001b[0m\u001b[0;34m\u001b[0m\u001b[0;34m\u001b[0m\u001b[0m\n\u001b[1;32m      3\u001b[0m \u001b[0mprint\u001b[0m\u001b[0;34m(\u001b[0m\u001b[0marr\u001b[0m\u001b[0;34m)\u001b[0m\u001b[0;34m\u001b[0m\u001b[0;34m\u001b[0m\u001b[0m\n\u001b[0;32m----> 4\u001b[0;31m \u001b[0mnp\u001b[0m\u001b[0;34m.\u001b[0m\u001b[0msplit\u001b[0m\u001b[0;34m(\u001b[0m\u001b[0marr\u001b[0m\u001b[0;34m,\u001b[0m\u001b[0;36m2\u001b[0m\u001b[0;34m)\u001b[0m\u001b[0;34m\u001b[0m\u001b[0;34m\u001b[0m\u001b[0m\n\u001b[0m",
      "\u001b[0;32m<__array_function__ internals>\u001b[0m in \u001b[0;36msplit\u001b[0;34m(*args, **kwargs)\u001b[0m\n",
      "\u001b[0;32m~/opt/anaconda3/lib/python3.8/site-packages/numpy/lib/shape_base.py\u001b[0m in \u001b[0;36msplit\u001b[0;34m(ary, indices_or_sections, axis)\u001b[0m\n\u001b[1;32m    870\u001b[0m         \u001b[0mN\u001b[0m \u001b[0;34m=\u001b[0m \u001b[0mary\u001b[0m\u001b[0;34m.\u001b[0m\u001b[0mshape\u001b[0m\u001b[0;34m[\u001b[0m\u001b[0maxis\u001b[0m\u001b[0;34m]\u001b[0m\u001b[0;34m\u001b[0m\u001b[0;34m\u001b[0m\u001b[0m\n\u001b[1;32m    871\u001b[0m         \u001b[0;32mif\u001b[0m \u001b[0mN\u001b[0m \u001b[0;34m%\u001b[0m \u001b[0msections\u001b[0m\u001b[0;34m:\u001b[0m\u001b[0;34m\u001b[0m\u001b[0;34m\u001b[0m\u001b[0m\n\u001b[0;32m--> 872\u001b[0;31m             raise ValueError(\n\u001b[0m\u001b[1;32m    873\u001b[0m                 'array split does not result in an equal division') from None\n\u001b[1;32m    874\u001b[0m     \u001b[0;32mreturn\u001b[0m \u001b[0marray_split\u001b[0m\u001b[0;34m(\u001b[0m\u001b[0mary\u001b[0m\u001b[0;34m,\u001b[0m \u001b[0mindices_or_sections\u001b[0m\u001b[0;34m,\u001b[0m \u001b[0maxis\u001b[0m\u001b[0;34m)\u001b[0m\u001b[0;34m\u001b[0m\u001b[0;34m\u001b[0m\u001b[0m\n",
      "\u001b[0;31mValueError\u001b[0m: array split does not result in an equal division"
     ]
    }
   ],
   "source": [
    "np.random.seed(2)\n",
    "arr = np.random.randint(0,10,size=(5))\n",
    "print(arr)\n",
    "np.split(arr,2)"
   ]
  },
  {
   "cell_type": "code",
   "execution_count": 140,
   "id": "007a26d4",
   "metadata": {},
   "outputs": [
    {
     "name": "stdout",
     "output_type": "stream",
     "text": [
      "[[8 8 6 2 8]\n",
      " [7 2 1 5 4]]\n"
     ]
    },
    {
     "data": {
      "text/plain": [
       "[array([[8, 8, 6],\n",
       "        [7, 2, 1]]),\n",
       " array([[2, 8],\n",
       "        [5, 4]])]"
      ]
     },
     "execution_count": 140,
     "metadata": {},
     "output_type": "execute_result"
    }
   ],
   "source": [
    "np.random.seed(2)\n",
    "arr = np.random.randint(0,10,size=(2,5))\n",
    "print(arr)\n",
    "np.array_split(arr,2, axis =1)"
   ]
  },
  {
   "cell_type": "markdown",
   "id": "baf958d0",
   "metadata": {},
   "source": [
    "### Search\n",
    "prints all"
   ]
  },
  {
   "cell_type": "code",
   "execution_count": 144,
   "id": "01ac9055",
   "metadata": {},
   "outputs": [
    {
     "name": "stdout",
     "output_type": "stream",
     "text": [
      "[11  2 34 14 53 65 27  8]\n"
     ]
    },
    {
     "data": {
      "text/plain": [
       "(array([7]),)"
      ]
     },
     "execution_count": 144,
     "metadata": {},
     "output_type": "execute_result"
    }
   ],
   "source": [
    "arr = np.array([11,2,34,14,53,65,27,8])\n",
    "print(arr)\n",
    "np.where(arr==8)"
   ]
  },
  {
   "cell_type": "markdown",
   "id": "a20b1868",
   "metadata": {},
   "source": [
    "### Sort"
   ]
  },
  {
   "cell_type": "code",
   "execution_count": 146,
   "id": "d7297737",
   "metadata": {},
   "outputs": [
    {
     "name": "stdout",
     "output_type": "stream",
     "text": [
      "[11  2 34 14 53 65 27  8]\n"
     ]
    },
    {
     "data": {
      "text/plain": [
       "array([ 2,  8, 11, 14, 27, 34, 53, 65])"
      ]
     },
     "execution_count": 146,
     "metadata": {},
     "output_type": "execute_result"
    }
   ],
   "source": [
    "print(arr)\n",
    "np.sort(arr)"
   ]
  },
  {
   "cell_type": "markdown",
   "id": "51d5fe98",
   "metadata": {},
   "source": [
    "### Broadcasting\n",
    "\n",
    "When we are operating with two matrices which do not have same rank, Numpy will automatically broadcast the small rank one to match the large rank one <br>\n",
    "\n",
    "lets see an example. Below example adds two matrices of size (1,3) and (1,1) - Numpy autoatically broadcasts (1,1) to (1,3)"
   ]
  },
  {
   "cell_type": "code",
   "execution_count": 148,
   "id": "1d4df172",
   "metadata": {},
   "outputs": [
    {
     "data": {
      "text/plain": [
       "array([6, 7, 8])"
      ]
     },
     "execution_count": 148,
     "metadata": {},
     "output_type": "execute_result"
    }
   ],
   "source": [
    "np.array([1,2,3]) +np.array([5])"
   ]
  },
  {
   "cell_type": "code",
   "execution_count": 150,
   "id": "c91fca41",
   "metadata": {},
   "outputs": [
    {
     "data": {
      "text/plain": [
       "array([[ 2,  4,  6],\n",
       "       [ 5,  7,  9],\n",
       "       [ 8, 10, 12]])"
      ]
     },
     "execution_count": 150,
     "metadata": {},
     "output_type": "execute_result"
    }
   ],
   "source": [
    "np.array([[1,2,3],[4,5,6],[7,8,9]]) +np.array([1,2,3])"
   ]
  },
  {
   "cell_type": "code",
   "execution_count": 152,
   "id": "d90d6fee",
   "metadata": {},
   "outputs": [
    {
     "data": {
      "text/plain": [
       "array([[ 2,  3,  4],\n",
       "       [ 6,  7,  8],\n",
       "       [10, 11, 12]])"
      ]
     },
     "execution_count": 152,
     "metadata": {},
     "output_type": "execute_result"
    }
   ],
   "source": [
    "np.array([[1,2,3],[4,5,6],[7,8,9]]) +np.array([[1],[2],[3]])"
   ]
  }
 ],
 "metadata": {
  "kernelspec": {
   "display_name": "Python 3",
   "language": "python",
   "name": "python3"
  },
  "language_info": {
   "codemirror_mode": {
    "name": "ipython",
    "version": 3
   },
   "file_extension": ".py",
   "mimetype": "text/x-python",
   "name": "python",
   "nbconvert_exporter": "python",
   "pygments_lexer": "ipython3",
   "version": "3.8.8"
  }
 },
 "nbformat": 4,
 "nbformat_minor": 5
}
