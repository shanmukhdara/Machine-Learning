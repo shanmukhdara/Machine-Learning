{
 "cells": [
  {
   "cell_type": "markdown",
   "id": "0f5cab8c",
   "metadata": {},
   "source": [
    "# Pandas\n",
    "\n",
    "Pandas is one of the most popular python libraries used in data science. It offers high-performance, user-friendly structures and data analysis tools. Unlike the NumPy library, which has objects for multidimensional arrays, Pandas has a 2d table object named Dataframe. It's similar to a spreadsheet, but with column names and row labels.\n",
    "\n",
    "**So why do we need Pandas?**\n",
    "* Accessing data from a dataframe with column and row names is much more easier than accessing data in Numpy\n",
    "* Numpy array accepts only homogeneous data, pandas dataframe accepts different data types (float, int, string, datetime, etc) all in one dataframe\n",
    "* Pandas offeres a vide range of built in functions like easy joins, rolling windows\n",
    "* 2D dataframes (similar to spreadsheets) are easier to code and interpret than multi-dimentional arrays\n",
    "\n",
    "In Pandas data frame indexing starts from 0\n",
    "\n",
    "\n",
    "Prerequisites -\n",
    "Python - If you don't already have Python, I strongly advise you to install the Anaconda Distribution (includes Python, NumPy, and many other commonly used packages)\n",
    "\n",
    "Numpy - NumPy may be installed with conda or pip. I recommend pip because it is simple and straightforward.\n",
    "\n",
    "                   \"pip install numpy\"\n",
    "                   \n",
    "Pandas - Pandas may be installed with conda or pip. I recommend pip because it is simple and straightforward.\n",
    "                   \n",
    "                   \"pip install pandas\"\n"
   ]
  },
  {
   "cell_type": "code",
   "execution_count": 2,
   "id": "b22cb802",
   "metadata": {},
   "outputs": [
    {
     "data": {
      "text/plain": [
       "<module 'pandas' from '/Users/sindhuja.kolluru/opt/anaconda3/lib/python3.8/site-packages/pandas/__init__.py'>"
      ]
     },
     "execution_count": 2,
     "metadata": {},
     "output_type": "execute_result"
    }
   ],
   "source": [
    "import numpy as np\n",
    "import pandas as pd\n",
    "pd"
   ]
  },
  {
   "cell_type": "markdown",
   "id": "9a43d2cc",
   "metadata": {},
   "source": [
    "### Read data\n",
    "**From CSV** <br> \n",
    "Outputs a data frame <br>\n",
    "pd.read_csv(...., index_col = <-->) <br>\n",
    "pd.read_excel(...., index_col = <-->)<br>\n",
    "\n",
    "or you can set index after reading using\n",
    "df.set_index(<..a list of series...>)"
   ]
  },
  {
   "cell_type": "markdown",
   "id": "9c947ca7",
   "metadata": {},
   "source": [
    "To convert a dict to df <br>\n",
    "**pd.DataFrame(dict)**\n"
   ]
  },
  {
   "cell_type": "markdown",
   "id": "2cff5b85",
   "metadata": {},
   "source": [
    "Lets start with a basic data frame, pandas assigns index by default, if not provided"
   ]
  },
  {
   "cell_type": "code",
   "execution_count": 197,
   "id": "1cd26846",
   "metadata": {
    "collapsed": true
   },
   "outputs": [
    {
     "name": "stdout",
     "output_type": "stream",
     "text": [
      "  Country  Capital\n",
      "0   India    Delhi\n",
      "1   China  Beijing\n",
      "2  Russia   Moscow\n",
      "---------------\n",
      "  Country  Capital\n",
      "0   India    Delhi\n",
      "1   China  Beijing\n",
      "2  Russia   Moscow\n",
      "---------------\n",
      "   Country  Capital\n",
      "C1   India    Delhi\n",
      "C2   China  Beijing\n",
      "C3  Russia   Moscow\n",
      "---------------\n",
      "   Country  Capital\n",
      "C1   India    Delhi\n",
      "C2   China  Beijing\n",
      "C3  Russia   Moscow\n",
      "---------------\n",
      "  country  capital\n",
      "0   India    Delhi\n",
      "1   China  Beijing\n",
      "2  Russia   Moscow\n"
     ]
    }
   ],
   "source": [
    "#From dictonary \n",
    "#index by default\n",
    "dict = {\"Country\" : [\"India\", \"China\", \"Russia\"], \"Capital\":[\"Delhi\",\"Beijing\",\"Moscow\"]}\n",
    "print(pd.DataFrame(dict))\n",
    "\n",
    "print(\"---------------\")\n",
    "#from a list of dictionaries\n",
    "dict = [{\"Country\" : \"India\", \"Capital\":\"Delhi\"}, \n",
    "        {\"Country\" : \"China\", \"Capital\": \"Beijing\"}, \n",
    "        { \"Country\" : \"Russia\", \"Capital\":\"Moscow\"}]\n",
    "print(pd.DataFrame(dict))\n",
    "\n",
    "\n",
    "print(\"---------------\")\n",
    "#lets pass indices\n",
    "df = pd.DataFrame(dict)\n",
    "df.index = [\"C1\",\"C2\",\"C3\"]\n",
    "print(df)\n",
    "\n",
    "print(\"---------------\")\n",
    "\n",
    "df = pd.DataFrame(dict, index=[\"C1\",\"C2\",\"C3\"])\n",
    "print(df)\n",
    "\n",
    "print(\"---------------\")\n",
    "#from nd array\n",
    "data = [[\"India\",\"Delhi\"],[\"China\",\"Beijing\"], [\"Russia\",\"Moscow\"]]\n",
    "clnames = [\"country\", \"capital\"]\n",
    "print(pd.DataFrame(data, columns = clnames))\n",
    "\n"
   ]
  },
  {
   "cell_type": "markdown",
   "id": "b1bf7e21",
   "metadata": {},
   "source": [
    "Indices may not be unique, may not be an integer"
   ]
  },
  {
   "cell_type": "code",
   "execution_count": 23,
   "id": "b5df3127",
   "metadata": {
    "collapsed": true
   },
   "outputs": [
    {
     "name": "stdout",
     "output_type": "stream",
     "text": [
      "   Country  Capital\n",
      "C1   India    Delhi\n",
      "C1   China  Beijing\n",
      "C3  Russia   Moscow\n",
      "    Country  Capital\n",
      "1.1   India    Delhi\n",
      "1.2   China  Beijing\n",
      "3.4  Russia   Moscow\n"
     ]
    }
   ],
   "source": [
    "df = pd.DataFrame(dict, index=[\"C1\",\"C1\",\"C3\"])\n",
    "print(df)\n",
    "df = pd.DataFrame(dict, index=[1.1,1.2,3.4])\n",
    "print(df)"
   ]
  },
  {
   "cell_type": "markdown",
   "id": "ce1e38f8",
   "metadata": {},
   "source": [
    "### Access data"
   ]
  },
  {
   "cell_type": "markdown",
   "id": "7ada296f",
   "metadata": {},
   "source": [
    "Lets see how to access data, rolling back to previous data frame"
   ]
  },
  {
   "cell_type": "code",
   "execution_count": 56,
   "id": "dd122f34",
   "metadata": {
    "collapsed": true
   },
   "outputs": [
    {
     "ename": "KeyError",
     "evalue": "1",
     "output_type": "error",
     "traceback": [
      "\u001b[0;31m---------------------------------------------------------------------------\u001b[0m",
      "\u001b[0;31mKeyError\u001b[0m                                  Traceback (most recent call last)",
      "\u001b[0;32m~/opt/anaconda3/lib/python3.8/site-packages/pandas/core/indexes/base.py\u001b[0m in \u001b[0;36mget_loc\u001b[0;34m(self, key, method, tolerance)\u001b[0m\n\u001b[1;32m   3079\u001b[0m             \u001b[0;32mtry\u001b[0m\u001b[0;34m:\u001b[0m\u001b[0;34m\u001b[0m\u001b[0;34m\u001b[0m\u001b[0m\n\u001b[0;32m-> 3080\u001b[0;31m                 \u001b[0;32mreturn\u001b[0m \u001b[0mself\u001b[0m\u001b[0;34m.\u001b[0m\u001b[0m_engine\u001b[0m\u001b[0;34m.\u001b[0m\u001b[0mget_loc\u001b[0m\u001b[0;34m(\u001b[0m\u001b[0mcasted_key\u001b[0m\u001b[0;34m)\u001b[0m\u001b[0;34m\u001b[0m\u001b[0;34m\u001b[0m\u001b[0m\n\u001b[0m\u001b[1;32m   3081\u001b[0m             \u001b[0;32mexcept\u001b[0m \u001b[0mKeyError\u001b[0m \u001b[0;32mas\u001b[0m \u001b[0merr\u001b[0m\u001b[0;34m:\u001b[0m\u001b[0;34m\u001b[0m\u001b[0;34m\u001b[0m\u001b[0m\n",
      "\u001b[0;32mpandas/_libs/index.pyx\u001b[0m in \u001b[0;36mpandas._libs.index.IndexEngine.get_loc\u001b[0;34m()\u001b[0m\n",
      "\u001b[0;32mpandas/_libs/index.pyx\u001b[0m in \u001b[0;36mpandas._libs.index.IndexEngine.get_loc\u001b[0;34m()\u001b[0m\n",
      "\u001b[0;32mpandas/_libs/hashtable_class_helper.pxi\u001b[0m in \u001b[0;36mpandas._libs.hashtable.PyObjectHashTable.get_item\u001b[0;34m()\u001b[0m\n",
      "\u001b[0;32mpandas/_libs/hashtable_class_helper.pxi\u001b[0m in \u001b[0;36mpandas._libs.hashtable.PyObjectHashTable.get_item\u001b[0;34m()\u001b[0m\n",
      "\u001b[0;31mKeyError\u001b[0m: 1",
      "\nThe above exception was the direct cause of the following exception:\n",
      "\u001b[0;31mKeyError\u001b[0m                                  Traceback (most recent call last)",
      "\u001b[0;32m<ipython-input-56-5738c278e79c>\u001b[0m in \u001b[0;36m<module>\u001b[0;34m\u001b[0m\n\u001b[1;32m      1\u001b[0m \u001b[0mdf_access\u001b[0m \u001b[0;34m=\u001b[0m \u001b[0mpd\u001b[0m\u001b[0;34m.\u001b[0m\u001b[0mDataFrame\u001b[0m\u001b[0;34m(\u001b[0m\u001b[0mdict\u001b[0m\u001b[0;34m)\u001b[0m\u001b[0;34m\u001b[0m\u001b[0;34m\u001b[0m\u001b[0m\n\u001b[1;32m      2\u001b[0m \u001b[0;31m# We cant use this df as a R data frame, below will throw an error\u001b[0m\u001b[0;34m\u001b[0m\u001b[0;34m\u001b[0m\u001b[0;34m\u001b[0m\u001b[0m\n\u001b[0;32m----> 3\u001b[0;31m \u001b[0mdf_access\u001b[0m\u001b[0;34m[\u001b[0m\u001b[0;36m1\u001b[0m\u001b[0;34m]\u001b[0m\u001b[0;34m\u001b[0m\u001b[0;34m\u001b[0m\u001b[0m\n\u001b[0m",
      "\u001b[0;32m~/opt/anaconda3/lib/python3.8/site-packages/pandas/core/frame.py\u001b[0m in \u001b[0;36m__getitem__\u001b[0;34m(self, key)\u001b[0m\n\u001b[1;32m   3022\u001b[0m             \u001b[0;32mif\u001b[0m \u001b[0mself\u001b[0m\u001b[0;34m.\u001b[0m\u001b[0mcolumns\u001b[0m\u001b[0;34m.\u001b[0m\u001b[0mnlevels\u001b[0m \u001b[0;34m>\u001b[0m \u001b[0;36m1\u001b[0m\u001b[0;34m:\u001b[0m\u001b[0;34m\u001b[0m\u001b[0;34m\u001b[0m\u001b[0m\n\u001b[1;32m   3023\u001b[0m                 \u001b[0;32mreturn\u001b[0m \u001b[0mself\u001b[0m\u001b[0;34m.\u001b[0m\u001b[0m_getitem_multilevel\u001b[0m\u001b[0;34m(\u001b[0m\u001b[0mkey\u001b[0m\u001b[0;34m)\u001b[0m\u001b[0;34m\u001b[0m\u001b[0;34m\u001b[0m\u001b[0m\n\u001b[0;32m-> 3024\u001b[0;31m             \u001b[0mindexer\u001b[0m \u001b[0;34m=\u001b[0m \u001b[0mself\u001b[0m\u001b[0;34m.\u001b[0m\u001b[0mcolumns\u001b[0m\u001b[0;34m.\u001b[0m\u001b[0mget_loc\u001b[0m\u001b[0;34m(\u001b[0m\u001b[0mkey\u001b[0m\u001b[0;34m)\u001b[0m\u001b[0;34m\u001b[0m\u001b[0;34m\u001b[0m\u001b[0m\n\u001b[0m\u001b[1;32m   3025\u001b[0m             \u001b[0;32mif\u001b[0m \u001b[0mis_integer\u001b[0m\u001b[0;34m(\u001b[0m\u001b[0mindexer\u001b[0m\u001b[0;34m)\u001b[0m\u001b[0;34m:\u001b[0m\u001b[0;34m\u001b[0m\u001b[0;34m\u001b[0m\u001b[0m\n\u001b[1;32m   3026\u001b[0m                 \u001b[0mindexer\u001b[0m \u001b[0;34m=\u001b[0m \u001b[0;34m[\u001b[0m\u001b[0mindexer\u001b[0m\u001b[0;34m]\u001b[0m\u001b[0;34m\u001b[0m\u001b[0;34m\u001b[0m\u001b[0m\n",
      "\u001b[0;32m~/opt/anaconda3/lib/python3.8/site-packages/pandas/core/indexes/base.py\u001b[0m in \u001b[0;36mget_loc\u001b[0;34m(self, key, method, tolerance)\u001b[0m\n\u001b[1;32m   3080\u001b[0m                 \u001b[0;32mreturn\u001b[0m \u001b[0mself\u001b[0m\u001b[0;34m.\u001b[0m\u001b[0m_engine\u001b[0m\u001b[0;34m.\u001b[0m\u001b[0mget_loc\u001b[0m\u001b[0;34m(\u001b[0m\u001b[0mcasted_key\u001b[0m\u001b[0;34m)\u001b[0m\u001b[0;34m\u001b[0m\u001b[0;34m\u001b[0m\u001b[0m\n\u001b[1;32m   3081\u001b[0m             \u001b[0;32mexcept\u001b[0m \u001b[0mKeyError\u001b[0m \u001b[0;32mas\u001b[0m \u001b[0merr\u001b[0m\u001b[0;34m:\u001b[0m\u001b[0;34m\u001b[0m\u001b[0;34m\u001b[0m\u001b[0m\n\u001b[0;32m-> 3082\u001b[0;31m                 \u001b[0;32mraise\u001b[0m \u001b[0mKeyError\u001b[0m\u001b[0;34m(\u001b[0m\u001b[0mkey\u001b[0m\u001b[0;34m)\u001b[0m \u001b[0;32mfrom\u001b[0m \u001b[0merr\u001b[0m\u001b[0;34m\u001b[0m\u001b[0;34m\u001b[0m\u001b[0m\n\u001b[0m\u001b[1;32m   3083\u001b[0m \u001b[0;34m\u001b[0m\u001b[0m\n\u001b[1;32m   3084\u001b[0m         \u001b[0;32mif\u001b[0m \u001b[0mtolerance\u001b[0m \u001b[0;32mis\u001b[0m \u001b[0;32mnot\u001b[0m \u001b[0;32mNone\u001b[0m\u001b[0;34m:\u001b[0m\u001b[0;34m\u001b[0m\u001b[0;34m\u001b[0m\u001b[0m\n",
      "\u001b[0;31mKeyError\u001b[0m: 1"
     ]
    }
   ],
   "source": [
    "df_access = pd.DataFrame(dict)\n",
    "# We cant use this df as a R data frame, below will throw an error\n",
    "df_access[1]"
   ]
  },
  {
   "cell_type": "code",
   "execution_count": 100,
   "id": "be11f592",
   "metadata": {
    "collapsed": true
   },
   "outputs": [
    {
     "name": "stdout",
     "output_type": "stream",
     "text": [
      "  Country  Capital\n",
      "0   India    Delhi\n",
      "1   China  Beijing\n",
      "2  Russia   Moscow\n",
      "<class 'pandas.core.frame.DataFrame'>\n",
      "---------------\n",
      "0     India\n",
      "1     China\n",
      "2    Russia\n",
      "Name: Country, dtype: object\n",
      "<class 'pandas.core.series.Series'>\n",
      "  Country\n",
      "0   India\n",
      "1   China\n",
      "2  Russia\n",
      "<class 'pandas.core.frame.DataFrame'>\n",
      "---------------\n",
      "1    China\n",
      "Name: Country, dtype: object\n",
      "---------------\n",
      "  Country  Capital\n",
      "0   India    Delhi\n",
      "1   China  Beijing\n",
      "  Country  Capital\n",
      "1   China  Beijing\n",
      "2  Russia   Moscow\n"
     ]
    }
   ],
   "source": [
    "#To access data use any of the below, [m:n] - n excluded\n",
    "#outputs a pandas dataframe\n",
    "print(df_access[0:3])\n",
    "print(type(df_access[0:3]))\n",
    "print(\"---------------\")\n",
    "#outputs a pandas series\n",
    "print(df_access['Country'])\n",
    "print(type(df_access['Country']))\n",
    "\n",
    "#To get a data frame out of this\n",
    "print(df_access[['Country']])\n",
    "print(type(df_access[['Country']]))\n",
    "\n",
    "\n",
    "print(\"---------------\")\n",
    "#outputs a pandas series\n",
    "print(df_access[1:2]['Country'])\n",
    "print(\"---------------\")\n",
    "#outputs a pandas dataframe\n",
    "print(df_access.head(2))\n",
    "print(df_access.tail(2))"
   ]
  },
  {
   "cell_type": "markdown",
   "id": "884277ca",
   "metadata": {},
   "source": [
    "### Shape\n",
    "(rows , columns)"
   ]
  },
  {
   "cell_type": "code",
   "execution_count": 88,
   "id": "f2a9195b",
   "metadata": {},
   "outputs": [
    {
     "data": {
      "text/plain": [
       "(3, 2)"
      ]
     },
     "execution_count": 88,
     "metadata": {},
     "output_type": "execute_result"
    }
   ],
   "source": [
    "df.shape"
   ]
  },
  {
   "cell_type": "markdown",
   "id": "541b7c74",
   "metadata": {},
   "source": [
    "### Access a column"
   ]
  },
  {
   "cell_type": "code",
   "execution_count": 89,
   "id": "ce3a0789",
   "metadata": {
    "collapsed": true
   },
   "outputs": [
    {
     "data": {
      "text/plain": [
       "C1     India\n",
       "C2     China\n",
       "C3    Russia\n",
       "Name: Country, dtype: object"
      ]
     },
     "execution_count": 89,
     "metadata": {},
     "output_type": "execute_result"
    }
   ],
   "source": [
    "df.Country"
   ]
  },
  {
   "cell_type": "markdown",
   "id": "9b5872e0",
   "metadata": {},
   "source": [
    "### Index based selection \n",
    "If we want to select a partition of databased on index <br>\n",
    "(m:n)  - n excluded"
   ]
  },
  {
   "cell_type": "code",
   "execution_count": 99,
   "id": "0e38e6ae",
   "metadata": {
    "collapsed": true
   },
   "outputs": [
    {
     "name": "stdout",
     "output_type": "stream",
     "text": [
      "lets access row 0\n",
      "Country    India\n",
      "Capital    Delhi\n",
      "Name: C1, dtype: object\n",
      "------------\n",
      "lets access row 0 and col 1\n",
      "Delhi\n",
      "------------\n",
      "Col 0\n",
      "C1     India\n",
      "C2     China\n",
      "C3    Russia\n",
      "Name: Country, dtype: object\n",
      "------------\n",
      "Some slice\n",
      "C2     China\n",
      "C3    Russia\n",
      "Name: Country, dtype: object\n",
      "------------\n",
      "based on a list\n",
      "C1     India\n",
      "C3    Russia\n",
      "Name: Country, dtype: object\n"
     ]
    }
   ],
   "source": [
    "print(\"lets access row 0\") \n",
    "print(df.iloc[0])\n",
    "print(\"------------\")\n",
    "print(\"lets access row 0 and col 1\")\n",
    "print(df.iloc[0,1])\n",
    "print(\"------------\")\n",
    "print(\"Col 0\")\n",
    "print(df.iloc[:,0])\n",
    "print(\"------------\")\n",
    "print(\"Some slice\")\n",
    "print(df.iloc[1:3,0])\n",
    "print(\"------------\")\n",
    "print(\"based on a list\")\n",
    "print(df.iloc[[0,2],0])"
   ]
  },
  {
   "cell_type": "markdown",
   "id": "c6b84d17",
   "metadata": {},
   "source": [
    "### Label based selection\n",
    "(m,n) - n included <br>\n",
    "why? <br>\n",
    "this is label based searching, if someone wants to get all countries from China to India, its easy to give China:India,\n",
    "rather than finding out what comes after india and then give China:Indonesia"
   ]
  },
  {
   "cell_type": "code",
   "execution_count": 106,
   "id": "d3b3b470",
   "metadata": {},
   "outputs": [
    {
     "data": {
      "text/plain": [
       "0    India\n",
       "1    China\n",
       "Name: Country, dtype: object"
      ]
     },
     "execution_count": 106,
     "metadata": {},
     "output_type": "execute_result"
    }
   ],
   "source": [
    "df_access.loc[0:1,'Country']"
   ]
  },
  {
   "cell_type": "code",
   "execution_count": 105,
   "id": "aafd513f",
   "metadata": {},
   "outputs": [
    {
     "data": {
      "text/plain": [
       "'China'"
      ]
     },
     "execution_count": 105,
     "metadata": {},
     "output_type": "execute_result"
    }
   ],
   "source": [
    "df.loc['C2','Country']"
   ]
  },
  {
   "cell_type": "markdown",
   "id": "dbcd5c7b",
   "metadata": {},
   "source": [
    "### Conditional Selection "
   ]
  },
  {
   "cell_type": "code",
   "execution_count": 107,
   "id": "e9b02e1d",
   "metadata": {},
   "outputs": [
    {
     "data": {
      "text/html": [
       "<div>\n",
       "<style scoped>\n",
       "    .dataframe tbody tr th:only-of-type {\n",
       "        vertical-align: middle;\n",
       "    }\n",
       "\n",
       "    .dataframe tbody tr th {\n",
       "        vertical-align: top;\n",
       "    }\n",
       "\n",
       "    .dataframe thead th {\n",
       "        text-align: right;\n",
       "    }\n",
       "</style>\n",
       "<table border=\"1\" class=\"dataframe\">\n",
       "  <thead>\n",
       "    <tr style=\"text-align: right;\">\n",
       "      <th></th>\n",
       "      <th>Country</th>\n",
       "      <th>Capital</th>\n",
       "    </tr>\n",
       "  </thead>\n",
       "  <tbody>\n",
       "    <tr>\n",
       "      <th>C1</th>\n",
       "      <td>India</td>\n",
       "      <td>Delhi</td>\n",
       "    </tr>\n",
       "  </tbody>\n",
       "</table>\n",
       "</div>"
      ],
      "text/plain": [
       "   Country Capital\n",
       "C1   India   Delhi"
      ]
     },
     "execution_count": 107,
     "metadata": {},
     "output_type": "execute_result"
    }
   ],
   "source": [
    "df.loc[df.Country == 'India']\n",
    "# all logical comparision operators can be used >,< , & | ..."
   ]
  },
  {
   "cell_type": "markdown",
   "id": "5524194c",
   "metadata": {},
   "source": [
    "### Summary"
   ]
  },
  {
   "cell_type": "code",
   "execution_count": 133,
   "id": "ff2eb77d",
   "metadata": {
    "collapsed": true
   },
   "outputs": [
    {
     "name": "stdout",
     "output_type": "stream",
     "text": [
      "data tyoes of columns\n",
      "Country    object\n",
      "Capital    object\n",
      "new_col     int64\n",
      "dtype: object\n",
      "Summary\n",
      "count    3.0\n",
      "mean     2.0\n",
      "std      1.0\n",
      "min      1.0\n",
      "25%      1.5\n",
      "50%      2.0\n",
      "75%      2.5\n",
      "max      3.0\n",
      "Name: new_col, dtype: float64\n",
      "count          3\n",
      "unique         3\n",
      "top       Russia\n",
      "freq           1\n",
      "Name: Country, dtype: object\n"
     ]
    }
   ],
   "source": [
    "dict = {\"Country\" : [\"India\", \"China\", \"Russia\"], \"Capital\":[\"Delhi\",\"Beijing\",\"Moscow\"]}\n",
    "df_summ = (pd.DataFrame(dict))\n",
    "#lets create a new col\n",
    "df_summ['new_col'] = pd.Series([1,2,3]).astype(int)\n",
    "\n",
    "print(\"data tyoes of columns\")\n",
    "print(df_summ.dtypes)\n",
    "\n",
    "print(\"Summary\")\n",
    "#for numeric\n",
    "print(df_summ.new_col.describe())\n",
    "#for cat \n",
    "print(df_summ.Country.describe())"
   ]
  },
  {
   "cell_type": "markdown",
   "id": "d3385184",
   "metadata": {},
   "source": [
    "Other functions include <br>\n",
    "* mean() <br>\n",
    "* unique() <br>\n",
    "* value_counts() - unique values and their frequency <br>\n",
    "* df.describe().round(2) \n",
    "* df.nunique()\n",
    "\n",
    "\n",
    "\n",
    "\n"
   ]
  },
  {
   "cell_type": "code",
   "execution_count": null,
   "id": "44d63fea",
   "metadata": {},
   "outputs": [],
   "source": []
  },
  {
   "cell_type": "markdown",
   "id": "28debce7",
   "metadata": {},
   "source": [
    "### Map\n",
    "To transform data"
   ]
  },
  {
   "cell_type": "code",
   "execution_count": 134,
   "id": "9b626591",
   "metadata": {
    "collapsed": true
   },
   "outputs": [
    {
     "data": {
      "text/plain": [
       "0   -1.0\n",
       "1    0.0\n",
       "2    1.0\n",
       "Name: new_col, dtype: float64"
      ]
     },
     "execution_count": 134,
     "metadata": {},
     "output_type": "execute_result"
    }
   ],
   "source": [
    "df_summ.new_col.map(lambda p: p - (df_summ.new_col.mean()))"
   ]
  },
  {
   "cell_type": "markdown",
   "id": "4f4e74e9",
   "metadata": {},
   "source": [
    "### Apply\n",
    "To transform the whole data frame with custome methods for each row <br>\n",
    "axis = 'columns' -> should pass a function to transform each row <br>\n",
    "axis = 'index' -> should pass a function to transform each column <br>\n"
   ]
  },
  {
   "cell_type": "code",
   "execution_count": 155,
   "id": "2b971b5d",
   "metadata": {},
   "outputs": [
    {
     "data": {
      "text/html": [
       "<div>\n",
       "<style scoped>\n",
       "    .dataframe tbody tr th:only-of-type {\n",
       "        vertical-align: middle;\n",
       "    }\n",
       "\n",
       "    .dataframe tbody tr th {\n",
       "        vertical-align: top;\n",
       "    }\n",
       "\n",
       "    .dataframe thead th {\n",
       "        text-align: right;\n",
       "    }\n",
       "</style>\n",
       "<table border=\"1\" class=\"dataframe\">\n",
       "  <thead>\n",
       "    <tr style=\"text-align: right;\">\n",
       "      <th></th>\n",
       "      <th>Country</th>\n",
       "      <th>Capital</th>\n",
       "      <th>new_col</th>\n",
       "    </tr>\n",
       "  </thead>\n",
       "  <tbody>\n",
       "    <tr>\n",
       "      <th>0</th>\n",
       "      <td>India</td>\n",
       "      <td>Delhi</td>\n",
       "      <td>2</td>\n",
       "    </tr>\n",
       "    <tr>\n",
       "      <th>1</th>\n",
       "      <td>China</td>\n",
       "      <td>Beijing</td>\n",
       "      <td>4</td>\n",
       "    </tr>\n",
       "    <tr>\n",
       "      <th>2</th>\n",
       "      <td>Russia</td>\n",
       "      <td>Moscow</td>\n",
       "      <td>6</td>\n",
       "    </tr>\n",
       "  </tbody>\n",
       "</table>\n",
       "</div>"
      ],
      "text/plain": [
       "  Country  Capital  new_col\n",
       "0   India    Delhi        2\n",
       "1   China  Beijing        4\n",
       "2  Russia   Moscow        6"
      ]
     },
     "execution_count": 155,
     "metadata": {},
     "output_type": "execute_result"
    }
   ],
   "source": [
    "def mean_apply(data_frame) :\n",
    "    data_frame.new_col = data_frame.new_col *2\n",
    "    return data_frame\n",
    "df_summ.apply(mean_apply, axis = 'columns')"
   ]
  },
  {
   "cell_type": "code",
   "execution_count": 144,
   "id": "a2aecf5b",
   "metadata": {},
   "outputs": [
    {
     "data": {
      "text/plain": [
       "0   -1.0\n",
       "1    0.0\n",
       "2    1.0\n",
       "Name: new_col, dtype: float64"
      ]
     },
     "execution_count": 144,
     "metadata": {},
     "output_type": "execute_result"
    }
   ],
   "source": [
    "#Above shown are just simple examples, Map and Apply are generally used for complex transorms, above subtraction can ve acheived by just doing\n",
    "df_summ.new_col - df_summ.new_col.mean()"
   ]
  },
  {
   "cell_type": "markdown",
   "id": "9cfd02a4",
   "metadata": {},
   "source": [
    "### Grouping and Sorting"
   ]
  },
  {
   "cell_type": "code",
   "execution_count": 168,
   "id": "dd14a8a9",
   "metadata": {
    "collapsed": true
   },
   "outputs": [
    {
     "name": "stdout",
     "output_type": "stream",
     "text": [
      "Country\n",
      "China     1\n",
      "India     2\n",
      "Russia    1\n",
      "Name: Country, dtype: int64\n",
      "India     2\n",
      "Russia    1\n",
      "China     1\n",
      "Name: Country, dtype: int64\n"
     ]
    }
   ],
   "source": [
    "df_group = df_summ.copy()\n",
    "#append a new row\n",
    "df_group.loc[3] = [\"India\", \"Delhi\",10]\n",
    "\n",
    "#lets group by country \n",
    "print(df_group.groupby('Country').Country.count())\n",
    "#nothing but\n",
    "print(df_group.Country.value_counts())"
   ]
  },
  {
   "cell_type": "code",
   "execution_count": 169,
   "id": "036454bb",
   "metadata": {
    "collapsed": true
   },
   "outputs": [
    {
     "data": {
      "text/plain": [
       "Country\n",
       "China     2\n",
       "India     1\n",
       "Russia    3\n",
       "Name: new_col, dtype: int64"
      ]
     },
     "execution_count": 169,
     "metadata": {},
     "output_type": "execute_result"
    }
   ],
   "source": [
    "df_group.groupby('Country').new_col.min()"
   ]
  },
  {
   "cell_type": "code",
   "execution_count": 181,
   "id": "cde7d751",
   "metadata": {
    "collapsed": true
   },
   "outputs": [
    {
     "data": {
      "text/html": [
       "<div>\n",
       "<style scoped>\n",
       "    .dataframe tbody tr th:only-of-type {\n",
       "        vertical-align: middle;\n",
       "    }\n",
       "\n",
       "    .dataframe tbody tr th {\n",
       "        vertical-align: top;\n",
       "    }\n",
       "\n",
       "    .dataframe thead th {\n",
       "        text-align: right;\n",
       "    }\n",
       "</style>\n",
       "<table border=\"1\" class=\"dataframe\">\n",
       "  <thead>\n",
       "    <tr style=\"text-align: right;\">\n",
       "      <th></th>\n",
       "      <th>Country</th>\n",
       "      <th>Capital</th>\n",
       "      <th>new_col</th>\n",
       "    </tr>\n",
       "  </thead>\n",
       "  <tbody>\n",
       "    <tr>\n",
       "      <th>3</th>\n",
       "      <td>India</td>\n",
       "      <td>Delhi</td>\n",
       "      <td>10</td>\n",
       "    </tr>\n",
       "    <tr>\n",
       "      <th>2</th>\n",
       "      <td>Russia</td>\n",
       "      <td>Moscow</td>\n",
       "      <td>3</td>\n",
       "    </tr>\n",
       "    <tr>\n",
       "      <th>1</th>\n",
       "      <td>China</td>\n",
       "      <td>Beijing</td>\n",
       "      <td>2</td>\n",
       "    </tr>\n",
       "    <tr>\n",
       "      <th>0</th>\n",
       "      <td>India</td>\n",
       "      <td>Delhi</td>\n",
       "      <td>1</td>\n",
       "    </tr>\n",
       "  </tbody>\n",
       "</table>\n",
       "</div>"
      ],
      "text/plain": [
       "  Country  Capital  new_col\n",
       "3   India    Delhi       10\n",
       "2  Russia   Moscow        3\n",
       "1   China  Beijing        2\n",
       "0   India    Delhi        1"
      ]
     },
     "execution_count": 181,
     "metadata": {},
     "output_type": "execute_result"
    }
   ],
   "source": [
    "#Grouping gives out values in index order not value order, so we need to sort\n",
    "#Sorting \n",
    "df_group.sort_values(by = \"new_col\", ascending= False)\n"
   ]
  },
  {
   "cell_type": "code",
   "execution_count": 183,
   "id": "bda9e87a",
   "metadata": {
    "collapsed": true
   },
   "outputs": [
    {
     "data": {
      "text/html": [
       "<div>\n",
       "<style scoped>\n",
       "    .dataframe tbody tr th:only-of-type {\n",
       "        vertical-align: middle;\n",
       "    }\n",
       "\n",
       "    .dataframe tbody tr th {\n",
       "        vertical-align: top;\n",
       "    }\n",
       "\n",
       "    .dataframe thead th {\n",
       "        text-align: right;\n",
       "    }\n",
       "</style>\n",
       "<table border=\"1\" class=\"dataframe\">\n",
       "  <thead>\n",
       "    <tr style=\"text-align: right;\">\n",
       "      <th></th>\n",
       "      <th>Country</th>\n",
       "      <th>Capital</th>\n",
       "      <th>new_col</th>\n",
       "    </tr>\n",
       "  </thead>\n",
       "  <tbody>\n",
       "    <tr>\n",
       "      <th>0</th>\n",
       "      <td>India</td>\n",
       "      <td>Delhi</td>\n",
       "      <td>1</td>\n",
       "    </tr>\n",
       "    <tr>\n",
       "      <th>1</th>\n",
       "      <td>China</td>\n",
       "      <td>Beijing</td>\n",
       "      <td>2</td>\n",
       "    </tr>\n",
       "    <tr>\n",
       "      <th>2</th>\n",
       "      <td>Russia</td>\n",
       "      <td>Moscow</td>\n",
       "      <td>3</td>\n",
       "    </tr>\n",
       "    <tr>\n",
       "      <th>3</th>\n",
       "      <td>India</td>\n",
       "      <td>Delhi</td>\n",
       "      <td>10</td>\n",
       "    </tr>\n",
       "  </tbody>\n",
       "</table>\n",
       "</div>"
      ],
      "text/plain": [
       "  Country  Capital  new_col\n",
       "0   India    Delhi        1\n",
       "1   China  Beijing        2\n",
       "2  Russia   Moscow        3\n",
       "3   India    Delhi       10"
      ]
     },
     "execution_count": 183,
     "metadata": {},
     "output_type": "execute_result"
    }
   ],
   "source": [
    "df_group.sort_index()\n"
   ]
  },
  {
   "cell_type": "code",
   "execution_count": 185,
   "id": "ba535030",
   "metadata": {
    "collapsed": true
   },
   "outputs": [
    {
     "data": {
      "text/html": [
       "<div>\n",
       "<style scoped>\n",
       "    .dataframe tbody tr th:only-of-type {\n",
       "        vertical-align: middle;\n",
       "    }\n",
       "\n",
       "    .dataframe tbody tr th {\n",
       "        vertical-align: top;\n",
       "    }\n",
       "\n",
       "    .dataframe thead th {\n",
       "        text-align: right;\n",
       "    }\n",
       "</style>\n",
       "<table border=\"1\" class=\"dataframe\">\n",
       "  <thead>\n",
       "    <tr style=\"text-align: right;\">\n",
       "      <th></th>\n",
       "      <th>Country</th>\n",
       "      <th>Capital</th>\n",
       "      <th>new_col</th>\n",
       "    </tr>\n",
       "  </thead>\n",
       "  <tbody>\n",
       "    <tr>\n",
       "      <th>2</th>\n",
       "      <td>Russia</td>\n",
       "      <td>Moscow</td>\n",
       "      <td>3</td>\n",
       "    </tr>\n",
       "    <tr>\n",
       "      <th>3</th>\n",
       "      <td>India</td>\n",
       "      <td>Delhi</td>\n",
       "      <td>10</td>\n",
       "    </tr>\n",
       "    <tr>\n",
       "      <th>0</th>\n",
       "      <td>India</td>\n",
       "      <td>Delhi</td>\n",
       "      <td>1</td>\n",
       "    </tr>\n",
       "    <tr>\n",
       "      <th>1</th>\n",
       "      <td>China</td>\n",
       "      <td>Beijing</td>\n",
       "      <td>2</td>\n",
       "    </tr>\n",
       "  </tbody>\n",
       "</table>\n",
       "</div>"
      ],
      "text/plain": [
       "  Country  Capital  new_col\n",
       "2  Russia   Moscow        3\n",
       "3   India    Delhi       10\n",
       "0   India    Delhi        1\n",
       "1   China  Beijing        2"
      ]
     },
     "execution_count": 185,
     "metadata": {},
     "output_type": "execute_result"
    }
   ],
   "source": [
    "df_group.sort_values(by = ['Country','new_col'], ascending= False)\n"
   ]
  },
  {
   "cell_type": "markdown",
   "id": "1f90e3af",
   "metadata": {},
   "source": [
    "### Misc"
   ]
  },
  {
   "cell_type": "code",
   "execution_count": 199,
   "id": "4d8b8b4d",
   "metadata": {},
   "outputs": [],
   "source": [
    "# To change data type \n",
    "# df.new_col.astype('float64')\n"
   ]
  },
  {
   "cell_type": "code",
   "execution_count": 212,
   "id": "0cdef62e",
   "metadata": {},
   "outputs": [
    {
     "data": {
      "text/plain": [
       "Country    1\n",
       "Capital    1\n",
       "dtype: int64"
      ]
     },
     "execution_count": 212,
     "metadata": {},
     "output_type": "execute_result"
    }
   ],
   "source": [
    "# IS null\n",
    "df = pd.DataFrame({\"Country\" : [\"India\", \"China\", \"Russia\"], \"Capital\":[\"Delhi\",\"Beijing\",\"Moscow\"]})\n",
    "df.iloc[2] = [np.nan, np.nan]\n",
    "df.isnull().sum()"
   ]
  },
  {
   "cell_type": "code",
   "execution_count": 214,
   "id": "02674b83",
   "metadata": {
    "collapsed": true
   },
   "outputs": [
    {
     "data": {
      "text/html": [
       "<div>\n",
       "<style scoped>\n",
       "    .dataframe tbody tr th:only-of-type {\n",
       "        vertical-align: middle;\n",
       "    }\n",
       "\n",
       "    .dataframe tbody tr th {\n",
       "        vertical-align: top;\n",
       "    }\n",
       "\n",
       "    .dataframe thead th {\n",
       "        text-align: right;\n",
       "    }\n",
       "</style>\n",
       "<table border=\"1\" class=\"dataframe\">\n",
       "  <thead>\n",
       "    <tr style=\"text-align: right;\">\n",
       "      <th></th>\n",
       "      <th>Country</th>\n",
       "      <th>Capital</th>\n",
       "    </tr>\n",
       "  </thead>\n",
       "  <tbody>\n",
       "    <tr>\n",
       "      <th>0</th>\n",
       "      <td>India</td>\n",
       "      <td>Delhi</td>\n",
       "    </tr>\n",
       "    <tr>\n",
       "      <th>1</th>\n",
       "      <td>China</td>\n",
       "      <td>Beijing</td>\n",
       "    </tr>\n",
       "    <tr>\n",
       "      <th>2</th>\n",
       "      <td>NaN</td>\n",
       "      <td>NaN</td>\n",
       "    </tr>\n",
       "  </tbody>\n",
       "</table>\n",
       "</div>"
      ],
      "text/plain": [
       "  Country  Capital\n",
       "0   India    Delhi\n",
       "1   China  Beijing\n",
       "2     NaN      NaN"
      ]
     },
     "execution_count": 214,
     "metadata": {},
     "output_type": "execute_result"
    }
   ],
   "source": [
    "#fill na\n",
    "df.fillna(\"hi\")"
   ]
  },
  {
   "cell_type": "code",
   "execution_count": 215,
   "id": "8f976016",
   "metadata": {
    "collapsed": true
   },
   "outputs": [
    {
     "data": {
      "text/html": [
       "<div>\n",
       "<style scoped>\n",
       "    .dataframe tbody tr th:only-of-type {\n",
       "        vertical-align: middle;\n",
       "    }\n",
       "\n",
       "    .dataframe tbody tr th {\n",
       "        vertical-align: top;\n",
       "    }\n",
       "\n",
       "    .dataframe thead th {\n",
       "        text-align: right;\n",
       "    }\n",
       "</style>\n",
       "<table border=\"1\" class=\"dataframe\">\n",
       "  <thead>\n",
       "    <tr style=\"text-align: right;\">\n",
       "      <th></th>\n",
       "      <th>Country</th>\n",
       "      <th>Capital</th>\n",
       "    </tr>\n",
       "  </thead>\n",
       "  <tbody>\n",
       "    <tr>\n",
       "      <th>0</th>\n",
       "      <td>True</td>\n",
       "      <td>True</td>\n",
       "    </tr>\n",
       "    <tr>\n",
       "      <th>1</th>\n",
       "      <td>True</td>\n",
       "      <td>True</td>\n",
       "    </tr>\n",
       "    <tr>\n",
       "      <th>2</th>\n",
       "      <td>False</td>\n",
       "      <td>False</td>\n",
       "    </tr>\n",
       "  </tbody>\n",
       "</table>\n",
       "</div>"
      ],
      "text/plain": [
       "   Country  Capital\n",
       "0     True     True\n",
       "1     True     True\n",
       "2    False    False"
      ]
     },
     "execution_count": 215,
     "metadata": {},
     "output_type": "execute_result"
    }
   ],
   "source": [
    "df.notnull()"
   ]
  },
  {
   "cell_type": "code",
   "execution_count": 217,
   "id": "d381dfa8",
   "metadata": {
    "collapsed": true
   },
   "outputs": [
    {
     "data": {
      "text/html": [
       "<div>\n",
       "<style scoped>\n",
       "    .dataframe tbody tr th:only-of-type {\n",
       "        vertical-align: middle;\n",
       "    }\n",
       "\n",
       "    .dataframe tbody tr th {\n",
       "        vertical-align: top;\n",
       "    }\n",
       "\n",
       "    .dataframe thead th {\n",
       "        text-align: right;\n",
       "    }\n",
       "</style>\n",
       "<table border=\"1\" class=\"dataframe\">\n",
       "  <thead>\n",
       "    <tr style=\"text-align: right;\">\n",
       "      <th></th>\n",
       "      <th>Country</th>\n",
       "      <th>Capital</th>\n",
       "    </tr>\n",
       "  </thead>\n",
       "  <tbody>\n",
       "    <tr>\n",
       "      <th>0</th>\n",
       "      <td>False</td>\n",
       "      <td>False</td>\n",
       "    </tr>\n",
       "    <tr>\n",
       "      <th>1</th>\n",
       "      <td>False</td>\n",
       "      <td>False</td>\n",
       "    </tr>\n",
       "    <tr>\n",
       "      <th>2</th>\n",
       "      <td>True</td>\n",
       "      <td>True</td>\n",
       "    </tr>\n",
       "  </tbody>\n",
       "</table>\n",
       "</div>"
      ],
      "text/plain": [
       "   Country  Capital\n",
       "0    False    False\n",
       "1    False    False\n",
       "2     True     True"
      ]
     },
     "execution_count": 217,
     "metadata": {},
     "output_type": "execute_result"
    }
   ],
   "source": [
    "df.isnull()"
   ]
  },
  {
   "cell_type": "code",
   "execution_count": 218,
   "id": "6cace6f1",
   "metadata": {
    "collapsed": true
   },
   "outputs": [
    {
     "data": {
      "text/html": [
       "<div>\n",
       "<style scoped>\n",
       "    .dataframe tbody tr th:only-of-type {\n",
       "        vertical-align: middle;\n",
       "    }\n",
       "\n",
       "    .dataframe tbody tr th {\n",
       "        vertical-align: top;\n",
       "    }\n",
       "\n",
       "    .dataframe thead th {\n",
       "        text-align: right;\n",
       "    }\n",
       "</style>\n",
       "<table border=\"1\" class=\"dataframe\">\n",
       "  <thead>\n",
       "    <tr style=\"text-align: right;\">\n",
       "      <th></th>\n",
       "      <th>Country</th>\n",
       "      <th>Capital</th>\n",
       "    </tr>\n",
       "  </thead>\n",
       "  <tbody>\n",
       "    <tr>\n",
       "      <th>0</th>\n",
       "      <td>India</td>\n",
       "      <td>Delhi</td>\n",
       "    </tr>\n",
       "    <tr>\n",
       "      <th>1</th>\n",
       "      <td>China</td>\n",
       "      <td>Beijing</td>\n",
       "    </tr>\n",
       "  </tbody>\n",
       "</table>\n",
       "</div>"
      ],
      "text/plain": [
       "  Country  Capital\n",
       "0   India    Delhi\n",
       "1   China  Beijing"
      ]
     },
     "execution_count": 218,
     "metadata": {},
     "output_type": "execute_result"
    }
   ],
   "source": [
    "df.dropna()"
   ]
  },
  {
   "cell_type": "markdown",
   "id": "936a340b",
   "metadata": {},
   "source": [
    "### Pandas Series\n",
    "Series is just a sequence of data, data frame is a set of series"
   ]
  },
  {
   "cell_type": "code",
   "execution_count": 87,
   "id": "0924a5a1",
   "metadata": {
    "collapsed": true
   },
   "outputs": [
    {
     "name": "stdout",
     "output_type": "stream",
     "text": [
      "0    1\n",
      "1    2\n",
      "2    3\n",
      "3    4\n",
      "4    5\n",
      "dtype: int64\n"
     ]
    },
    {
     "data": {
      "text/plain": [
       "1"
      ]
     },
     "execution_count": 87,
     "metadata": {},
     "output_type": "execute_result"
    }
   ],
   "source": [
    "temp = pd.Series([1,2,3,4,5])\n",
    "print(temp)\n",
    "temp[0]"
   ]
  },
  {
   "cell_type": "markdown",
   "id": "b803eddf",
   "metadata": {},
   "source": [
    "### String operators "
   ]
  },
  {
   "cell_type": "code",
   "execution_count": 189,
   "id": "cbaa159d",
   "metadata": {
    "collapsed": true
   },
   "outputs": [
    {
     "data": {
      "text/plain": [
       "0     india\n",
       "1     china\n",
       "2    russia\n",
       "Name: Country, dtype: object"
      ]
     },
     "execution_count": 189,
     "metadata": {},
     "output_type": "execute_result"
    }
   ],
   "source": [
    "df['Country'].str.lower()\n"
   ]
  },
  {
   "cell_type": "code",
   "execution_count": 191,
   "id": "3c3243e1",
   "metadata": {
    "collapsed": true
   },
   "outputs": [
    {
     "data": {
      "text/plain": [
       "0      D_lhi\n",
       "1    B_ijing\n",
       "2     Moscow\n",
       "Name: Capital, dtype: object"
      ]
     },
     "execution_count": 191,
     "metadata": {},
     "output_type": "execute_result"
    }
   ],
   "source": [
    "df['Capital'].str.replace(\"e\",\"_\")\n"
   ]
  },
  {
   "cell_type": "markdown",
   "id": "9d376c96",
   "metadata": {},
   "source": [
    "### Renaming and Combining\n"
   ]
  },
  {
   "cell_type": "code",
   "execution_count": 220,
   "id": "017ddc75",
   "metadata": {
    "collapsed": true
   },
   "outputs": [
    {
     "data": {
      "text/html": [
       "<div>\n",
       "<style scoped>\n",
       "    .dataframe tbody tr th:only-of-type {\n",
       "        vertical-align: middle;\n",
       "    }\n",
       "\n",
       "    .dataframe tbody tr th {\n",
       "        vertical-align: top;\n",
       "    }\n",
       "\n",
       "    .dataframe thead th {\n",
       "        text-align: right;\n",
       "    }\n",
       "</style>\n",
       "<table border=\"1\" class=\"dataframe\">\n",
       "  <thead>\n",
       "    <tr style=\"text-align: right;\">\n",
       "      <th></th>\n",
       "      <th>Country</th>\n",
       "      <th>Capital</th>\n",
       "      <th>temp</th>\n",
       "    </tr>\n",
       "  </thead>\n",
       "  <tbody>\n",
       "    <tr>\n",
       "      <th>0</th>\n",
       "      <td>India</td>\n",
       "      <td>Delhi</td>\n",
       "      <td>1</td>\n",
       "    </tr>\n",
       "    <tr>\n",
       "      <th>1</th>\n",
       "      <td>China</td>\n",
       "      <td>Beijing</td>\n",
       "      <td>2</td>\n",
       "    </tr>\n",
       "    <tr>\n",
       "      <th>2</th>\n",
       "      <td>Russia</td>\n",
       "      <td>Moscow</td>\n",
       "      <td>3</td>\n",
       "    </tr>\n",
       "    <tr>\n",
       "      <th>3</th>\n",
       "      <td>India</td>\n",
       "      <td>Delhi</td>\n",
       "      <td>10</td>\n",
       "    </tr>\n",
       "  </tbody>\n",
       "</table>\n",
       "</div>"
      ],
      "text/plain": [
       "  Country  Capital  temp\n",
       "0   India    Delhi     1\n",
       "1   China  Beijing     2\n",
       "2  Russia   Moscow     3\n",
       "3   India    Delhi    10"
      ]
     },
     "execution_count": 220,
     "metadata": {},
     "output_type": "execute_result"
    }
   ],
   "source": [
    "df_group.rename(columns = {'new_col':\"temp\"})"
   ]
  },
  {
   "cell_type": "markdown",
   "id": "8c36843c",
   "metadata": {},
   "source": [
    "#### combining \n",
    "* .concat() - to concat 2 data sets with same columns - merged via rows\n",
    "* .join() - similar to sql join\n",
    "* .merge()\n"
   ]
  }
 ],
 "metadata": {
  "kernelspec": {
   "display_name": "Python 3",
   "language": "python",
   "name": "python3"
  },
  "language_info": {
   "codemirror_mode": {
    "name": "ipython",
    "version": 3
   },
   "file_extension": ".py",
   "mimetype": "text/x-python",
   "name": "python",
   "nbconvert_exporter": "python",
   "pygments_lexer": "ipython3",
   "version": "3.8.8"
  }
 },
 "nbformat": 4,
 "nbformat_minor": 5
}
